{
 "cells": [
  {
   "cell_type": "code",
   "execution_count": null,
   "id": "4b73faf6",
   "metadata": {},
   "outputs": [],
   "source": [
    "!pip install ipytest\n",
    "\n",
    "import ipytest\n",
    "ipytest.autoconfig()"
   ]
  },
  {
   "cell_type": "code",
   "execution_count": null,
   "id": "7edfa47d",
   "metadata": {},
   "outputs": [],
   "source": [
    "%%ipytest\n",
    "\n",
    "# Add Tuples to Set"
   ]
  },
  {
   "cell_type": "code",
   "execution_count": null,
   "id": "ee5d3671",
   "metadata": {},
   "outputs": [],
   "source": [
    "%%ipytest\n",
    "\n",
    "# Convert Tuples to Lists"
   ]
  },
  {
   "cell_type": "code",
   "execution_count": null,
   "id": "4dfe3bcc",
   "metadata": {},
   "outputs": [],
   "source": [
    "%%ipytest\n",
    "\n",
    "# Sort Tuple Elements"
   ]
  },
  {
   "cell_type": "code",
   "execution_count": null,
   "id": "59b90582",
   "metadata": {},
   "outputs": [],
   "source": [
    "%%ipytest\n",
    "\n",
    "# Tuple Iteration"
   ]
  },
  {
   "cell_type": "code",
   "execution_count": null,
   "id": "8713e031",
   "metadata": {},
   "outputs": [],
   "source": [
    "%%ipytest\n",
    "\n",
    "# Basic Data Structures"
   ]
  },
  {
   "cell_type": "code",
   "execution_count": null,
   "id": "e3e73521",
   "metadata": {},
   "outputs": [],
   "source": [
    "%%ipytest\n",
    "\n",
    "# Remove Element at Index"
   ]
  },
  {
   "cell_type": "code",
   "execution_count": null,
   "id": "8e304447",
   "metadata": {},
   "outputs": [],
   "source": [
    "%%ipytest\n",
    "\n",
    "# Insert Element at Index"
   ]
  },
  {
   "cell_type": "code",
   "execution_count": null,
   "id": "14d1af19",
   "metadata": {},
   "outputs": [],
   "source": [
    "%%ipytest\n",
    "\n",
    "# Create Range"
   ]
  },
  {
   "cell_type": "code",
   "execution_count": null,
   "id": "43f7f49e",
   "metadata": {},
   "outputs": [],
   "source": [
    "%%ipytest\n",
    "\n",
    "# Get Dictionary Keys"
   ]
  }
 ],
 "metadata": {},
 "nbformat": 4,
 "nbformat_minor": 5
}

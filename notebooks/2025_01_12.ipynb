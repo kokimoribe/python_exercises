{
 "cells": [
  {
   "cell_type": "code",
   "execution_count": null,
   "id": "f4b2b452",
   "metadata": {},
   "outputs": [],
   "source": [
    "!pip install ipytest\n",
    "\n",
    "import ipytest\n",
    "ipytest.autoconfig()"
   ]
  },
  {
   "cell_type": "code",
   "execution_count": null,
   "id": "2df9668c",
   "metadata": {},
   "outputs": [],
   "source": [
    "%%ipytest\n",
    "\n",
    "# Add Tuples to Set"
   ]
  },
  {
   "cell_type": "code",
   "execution_count": null,
   "id": "71d96806",
   "metadata": {},
   "outputs": [],
   "source": [
    "%%ipytest\n",
    "\n",
    "def tuples_to_set(tuple_list):\n",
    "    \"\"\"\n",
    "    Write a function that takes a list of tuples and adds them to a set.\n",
    "    Return the resulting set.\n",
    "    \n",
    "    Example:\n",
    "    tuples_to_set([(1, 2), (3, 4), (1, 2)]) -> {(1, 2), (3, 4)}\n",
    "    \"\"\"\n",
    "    pass\n",
    "\n",
    "def test_tuples_to_set():\n",
    "    assert tuples_to_set([(1, 2), (3, 4), (1, 2)]) == {(1, 2), (3, 4)}\n",
    "    assert tuples_to_set([]) == set()\n",
    "    assert tuples_to_set([(1, 1), (1, 1)]) == {(1, 1)}\n",
    "    assert tuples_to_set([(1,), (2,), (3,)]) == {(1,), (2,), (3,)}"
   ]
  },
  {
   "cell_type": "code",
   "execution_count": null,
   "id": "395ea6f5",
   "metadata": {},
   "outputs": [],
   "source": [
    "%%ipytest\n",
    "\n",
    "# Convert Tuples to Lists"
   ]
  },
  {
   "cell_type": "code",
   "execution_count": null,
   "id": "2c2d12a0",
   "metadata": {},
   "outputs": [],
   "source": [
    "%%ipytest\n",
    "\n",
    "def tuples_to_lists(tuple_list):\n",
    "    \"\"\"\n",
    "    Write a function that converts a list of tuples to a list of lists.\n",
    "    \n",
    "    Example:\n",
    "    tuples_to_lists([(1, 2), (3, 4)]) -> [[1, 2], [3, 4]]\n",
    "    \"\"\"\n",
    "    pass\n",
    "\n",
    "def test_tuples_to_lists():\n",
    "    assert tuples_to_lists([(1, 2), (3, 4)]) == [[1, 2], [3, 4]]\n",
    "    assert tuples_to_lists([]) == []\n",
    "    assert tuples_to_lists([(1,)]) == [[1]]\n",
    "    assert tuples_to_lists([(1, 2, 3), (4, 5, 6)]) == [[1, 2, 3], [4, 5, 6]]"
   ]
  },
  {
   "cell_type": "code",
   "execution_count": null,
   "id": "d3fb79ae",
   "metadata": {},
   "outputs": [],
   "source": [
    "%%ipytest\n",
    "\n",
    "# Sort Tuple Elements"
   ]
  },
  {
   "cell_type": "code",
   "execution_count": null,
   "id": "eb53248e",
   "metadata": {},
   "outputs": [],
   "source": [
    "%%ipytest\n",
    "\n",
    "def sort_tuple_elements(tuple_list):\n",
    "    \"\"\"\n",
    "    Write a function that sorts each tuple within a list of tuples.\n",
    "    Return a new list containing the sorted tuples.\n",
    "    \n",
    "    Example:\n",
    "    sort_tuple_elements([(3, 1, 2), (5, 4, 6)]) -> [(1, 2, 3), (4, 5, 6)]\n",
    "    \"\"\"\n",
    "    pass\n",
    "\n",
    "def test_sort_tuple_elements():\n",
    "    assert sort_tuple_elements([(3, 1, 2), (5, 4, 6)]) == [(1, 2, 3), (4, 5, 6)]\n",
    "    assert sort_tuple_elements([]) == []\n",
    "    assert sort_tuple_elements([(1,)]) == [(1,)]\n",
    "    assert sort_tuple_elements([(2, 1), (4, 3)]) == [(1, 2), (3, 4)]"
   ]
  },
  {
   "cell_type": "code",
   "execution_count": null,
   "id": "b4c066d4",
   "metadata": {},
   "outputs": [],
   "source": [
    "%%ipytest\n",
    "\n",
    "# Tuple Iteration"
   ]
  },
  {
   "cell_type": "code",
   "execution_count": null,
   "id": "63b36d25",
   "metadata": {},
   "outputs": [],
   "source": [
    "%%ipytest\n",
    "\n",
    "def process_tuples(tuple_list):\n",
    "    \"\"\"\n",
    "    Write a function that takes a list of tuples and returns a new list containing\n",
    "    the sum of elements in each tuple.\n",
    "    \n",
    "    Example:\n",
    "    process_tuples([(1, 2), (3, 4), (5, 6)]) -> [3, 7, 11]\n",
    "    \"\"\"\n",
    "    pass\n",
    "\n",
    "def test_process_tuples():\n",
    "    assert process_tuples([(1, 2), (3, 4), (5, 6)]) == [3, 7, 11]\n",
    "    assert process_tuples([(1, 1, 1), (2, 2, 2)]) == [3, 6]\n",
    "    assert process_tuples([]) == []\n",
    "    assert process_tuples([(5,)]) == [5]"
   ]
  },
  {
   "cell_type": "code",
   "execution_count": null,
   "id": "fbe73bb0",
   "metadata": {},
   "outputs": [],
   "source": [
    "%%ipytest\n",
    "\n",
    "# Basic Data Structures"
   ]
  },
  {
   "cell_type": "code",
   "execution_count": null,
   "id": "edc016d7",
   "metadata": {},
   "outputs": [],
   "source": [
    "%%ipytest\n",
    "\n",
    "def create_empty_structures():\n",
    "    \"\"\"\n",
    "    Write a function that returns a tuple containing three empty data structures:\n",
    "    a dictionary, a set, and a tuple, in that order.\n",
    "    \n",
    "    Example:\n",
    "    create_empty_structures() -> ({}, set(), ())\n",
    "    \"\"\"\n",
    "    pass\n",
    "\n",
    "def test_create_empty_structures():\n",
    "    assert len(create_empty_structures()) == 3\n",
    "    assert isinstance(create_empty_structures()[0], dict)\n",
    "    assert isinstance(create_empty_structures()[1], set)\n",
    "    assert isinstance(create_empty_structures()[2], tuple)\n",
    "    assert len(create_empty_structures()[0]) == 0\n",
    "    assert len(create_empty_structures()[1]) == 0\n",
    "    assert len(create_empty_structures()[2]) == 0"
   ]
  },
  {
   "cell_type": "code",
   "execution_count": null,
   "id": "806fe0b4",
   "metadata": {},
   "outputs": [],
   "source": [
    "%%ipytest\n",
    "\n",
    "# Remove Element at Index"
   ]
  },
  {
   "cell_type": "code",
   "execution_count": null,
   "id": "3036a791",
   "metadata": {},
   "outputs": [],
   "source": [
    "%%ipytest\n",
    "\n",
    "def remove_at_index(lst, index):\n",
    "    \"\"\"\n",
    "    Write a function that takes a list and an index, and returns a new list\n",
    "    with the element at the given index removed.\n",
    "    \n",
    "    Example:\n",
    "    remove_at_index([1, 2, 3, 4], 1) -> [1, 3, 4]\n",
    "    \"\"\"\n",
    "    pass\n",
    "\n",
    "def test_remove_at_index():\n",
    "    assert remove_at_index([1, 2, 3, 4], 1) == [1, 3, 4]\n",
    "    assert remove_at_index([1], 0) == []\n",
    "    assert remove_at_index([1, 2, 3], 2) == [1, 2]\n",
    "    assert remove_at_index([1, 2, 3], 0) == [2, 3]"
   ]
  },
  {
   "cell_type": "code",
   "execution_count": null,
   "id": "645e8e1f",
   "metadata": {},
   "outputs": [],
   "source": [
    "%%ipytest\n",
    "\n",
    "# Insert Element at Index"
   ]
  },
  {
   "cell_type": "code",
   "execution_count": null,
   "id": "4ed760cc",
   "metadata": {},
   "outputs": [],
   "source": [
    "%%ipytest\n",
    "\n",
    "def insert_at_index(lst, index, value):\n",
    "    \"\"\"\n",
    "    Write a function that takes a list, an index, and a value, and returns\n",
    "    a new list with the value inserted at the given index.\n",
    "    \n",
    "    Example:\n",
    "    insert_at_index([1, 2, 3], 1, 4) -> [1, 4, 2, 3]\n",
    "    \"\"\"\n",
    "    pass\n",
    "\n",
    "def test_insert_at_index():\n",
    "    assert insert_at_index([1, 2, 3], 1, 4) == [1, 4, 2, 3]\n",
    "    assert insert_at_index([], 0, 1) == [1]\n",
    "    assert insert_at_index([1, 2], 2, 3) == [1, 2, 3]\n",
    "    assert insert_at_index([1, 2], 0, 0) == [0, 1, 2]"
   ]
  },
  {
   "cell_type": "code",
   "execution_count": null,
   "id": "0425103e",
   "metadata": {},
   "outputs": [],
   "source": [
    "%%ipytest\n",
    "\n",
    "# Create Range"
   ]
  },
  {
   "cell_type": "code",
   "execution_count": null,
   "id": "f3ab29a8",
   "metadata": {},
   "outputs": [],
   "source": [
    "%%ipytest\n",
    "\n",
    "def create_range(n):\n",
    "    \"\"\"\n",
    "    Write a function that takes an integer n and returns a list containing\n",
    "    all integers from 0 up to (but not including) n.\n",
    "    \n",
    "    Example:\n",
    "    create_range(4) -> [0, 1, 2, 3]\n",
    "    \"\"\"\n",
    "    pass\n",
    "\n",
    "def test_create_range():\n",
    "    assert create_range(4) == [0, 1, 2, 3]\n",
    "    assert create_range(0) == []\n",
    "    assert create_range(1) == [0]\n",
    "    assert create_range(2) == [0, 1]"
   ]
  },
  {
   "cell_type": "code",
   "execution_count": null,
   "id": "5c30e988",
   "metadata": {},
   "outputs": [],
   "source": [
    "%%ipytest\n",
    "\n",
    "# Get Dictionary Keys"
   ]
  },
  {
   "cell_type": "code",
   "execution_count": null,
   "id": "dc444c60",
   "metadata": {},
   "outputs": [],
   "source": [
    "%%ipytest\n",
    "\n",
    "def get_dict_keys(d):\n",
    "    \"\"\"\n",
    "    Write a function that takes a dictionary and returns its keys as a sorted list.\n",
    "    \n",
    "    Example:\n",
    "    get_dict_keys({'b': 1, 'a': 2, 'c': 3}) -> ['a', 'b', 'c']\n",
    "    \"\"\"\n",
    "    pass\n",
    "\n",
    "def test_get_dict_keys():\n",
    "    assert get_dict_keys({'b': 1, 'a': 2, 'c': 3}) == ['a', 'b', 'c']\n",
    "    assert get_dict_keys({}) == []\n",
    "    assert get_dict_keys({'x': 1}) == ['x']\n",
    "    assert get_dict_keys({1: 'a', 2: 'b'}) == [1, 2]"
   ]
  }
 ],
 "metadata": {},
 "nbformat": 4,
 "nbformat_minor": 5
}

{
 "cells": [
  {
   "cell_type": "markdown",
   "id": "c52202cd",
   "metadata": {},
   "source": [
    "\n",
    "If you're not familiar with notebooks:\n",
    "\n",
    "https://chatgpt.com/share/6784782a-d7ac-8010-9dcf-9b5141e2a4ea\n",
    "\n",
    "\n",
    "#### Key information\n",
    "\n",
    "- **Execute a Cell**: \n",
    "  - `Shift+Enter` to execute and move to next cell\n",
    "  - `Ctrl+Enter` (Windows) or `⌘+Enter` (Mac) to execute and stay on current cell\n",
    "- **Edit a Cell**: Simply click inside any code cell to start editing\n",
    "- **Add a Cell**: Use the + button in the top menu or press `Ctrl+M B` (Windows) or `⌘+M B` (Mac)\n",
    "- **Dark Mode**: \n",
    "  1. Click on 'Tools' in the top menubar\n",
    "  2. Select 'Settings'\n",
    "  3. Choose 'Theme' → 'Dark'\n",
    "\n",
    "#### Important First Steps\n",
    "1. **Run the Setup Cell**: Before starting any exercise notebook, you **must** run the first code cell (marked 'Run this first!!!'). \n",
    "   - This cell installs and configures the testing framework\n",
    "   - The first execution may take ~10 seconds as Google Colab prepares your execution environment\n",
    "   - You'll know it's ready when you see a checkmark ✓ appear on the cell\n",
    "\n",
    "#### Running the Exercises\n",
    "1. Each exercise contains:\n",
    "   - A function to implement\n",
    "   - A docstring explaining what to do\n",
    "   - Test cases to verify your solution\n",
    "2. Write your code in place of the `pass` statement\n",
    "3. Run the cell to check if your solution passes the tests\n",
    "4. A ✓ appears when all tests pass\n",
    "\n",
    "### Available Notebooks\n"
   ]
  },
  {
   "cell_type": "markdown",
   "id": "01bc848e",
   "metadata": {},
   "source": [
    "- [2025 01 12](https://colab.research.google.com/github/kokimoribe/python_exercises/blob/publish/notebooks/2025_01_12.ipynb)\n",
    "- [Binary Tree](https://colab.research.google.com/github/kokimoribe/python_exercises/blob/publish/notebooks/binary_tree.ipynb)"
   ]
  }
 ],
 "metadata": {},
 "nbformat": 4,
 "nbformat_minor": 5
}

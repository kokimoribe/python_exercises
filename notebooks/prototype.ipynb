{
 "cells": [
  {
   "cell_type": "code",
   "execution_count": null,
   "id": "387c66b0",
   "metadata": {},
   "outputs": [],
   "source": [
    "!pip install ipytest\n",
    "\n",
    "import ipytest\n",
    "ipytest.autoconfig()"
   ]
  },
  {
   "cell_type": "markdown",
   "id": "a792acd5",
   "metadata": {},
   "source": [
    "Python Programming Exercises\n",
    " Complete each function according to its docstring description.\n",
    " Each section can be converted into a separate cell in your notebook."
   ]
  },
  {
   "cell_type": "code",
   "execution_count": null,
   "id": "bae876ca",
   "metadata": {},
   "outputs": [],
   "source": [
    "%%ipytest\n",
    "\n",
    "# Counting Vowels"
   ]
  },
  {
   "cell_type": "code",
   "execution_count": null,
   "id": "b5809ad7",
   "metadata": {},
   "outputs": [],
   "source": [
    "%%ipytest\n",
    "\n",
    "# String Reversal"
   ]
  },
  {
   "cell_type": "code",
   "execution_count": null,
   "id": "2481b48d",
   "metadata": {},
   "outputs": [],
   "source": [
    "%%ipytest\n",
    "\n",
    "# Palindrome Check"
   ]
  },
  {
   "cell_type": "code",
   "execution_count": null,
   "id": "6cab30cf",
   "metadata": {},
   "outputs": [],
   "source": [
    "%%ipytest\n",
    "\n",
    "# Replace Spaces"
   ]
  },
  {
   "cell_type": "code",
   "execution_count": null,
   "id": "e4ef42e6",
   "metadata": {},
   "outputs": [],
   "source": [
    "%%ipytest\n",
    "\n",
    "# Extract Unique Words"
   ]
  },
  {
   "cell_type": "code",
   "execution_count": null,
   "id": "6817344e",
   "metadata": {},
   "outputs": [],
   "source": [
    "%%ipytest\n",
    "\n",
    "# Fibonacci Sequence"
   ]
  },
  {
   "cell_type": "code",
   "execution_count": null,
   "id": "21d5fbb1",
   "metadata": {},
   "outputs": [],
   "source": [
    "%%ipytest\n",
    "\n",
    "# Finding Duplicates"
   ]
  },
  {
   "cell_type": "code",
   "execution_count": null,
   "id": "2f6d3ecf",
   "metadata": {},
   "outputs": [],
   "source": [
    "%%ipytest\n",
    "\n",
    "# Prime Number Check"
   ]
  },
  {
   "cell_type": "code",
   "execution_count": null,
   "id": "2ac0ec9d",
   "metadata": {},
   "outputs": [],
   "source": [
    "%%ipytest\n",
    "\n",
    "# Find Min and Max"
   ]
  },
  {
   "cell_type": "code",
   "execution_count": null,
   "id": "62501fa0",
   "metadata": {},
   "outputs": [],
   "source": [
    "%%ipytest\n",
    "\n",
    "# Rotate List"
   ]
  },
  {
   "cell_type": "code",
   "execution_count": null,
   "id": "01a034ad",
   "metadata": {},
   "outputs": [],
   "source": [
    "%%ipytest\n",
    "\n",
    "# Remove Duplicates Preserve Order"
   ]
  },
  {
   "cell_type": "code",
   "execution_count": null,
   "id": "eca3c188",
   "metadata": {},
   "outputs": [],
   "source": [
    "%%ipytest\n",
    "\n",
    "# Second Largest Number"
   ]
  },
  {
   "cell_type": "code",
   "execution_count": null,
   "id": "ac641617",
   "metadata": {},
   "outputs": [],
   "source": [
    "%%ipytest\n",
    "\n",
    "# Flatten Nested List"
   ]
  },
  {
   "cell_type": "code",
   "execution_count": null,
   "id": "561d10f2",
   "metadata": {},
   "outputs": [],
   "source": [
    "%%ipytest\n",
    "\n",
    "# Character Frequency"
   ]
  },
  {
   "cell_type": "code",
   "execution_count": null,
   "id": "dbeb6f5b",
   "metadata": {},
   "outputs": [],
   "source": [
    "%%ipytest\n",
    "\n",
    "# Merge Dictionaries"
   ]
  },
  {
   "cell_type": "code",
   "execution_count": null,
   "id": "67286b69",
   "metadata": {},
   "outputs": [],
   "source": [
    "%%ipytest\n",
    "\n",
    "# Find Maximum Value Keys"
   ]
  },
  {
   "cell_type": "code",
   "execution_count": null,
   "id": "a9595745",
   "metadata": {},
   "outputs": [],
   "source": [
    "%%ipytest\n",
    "\n",
    "# Invert Dictionary"
   ]
  },
  {
   "cell_type": "code",
   "execution_count": null,
   "id": "5b629b72",
   "metadata": {},
   "outputs": [],
   "source": [
    "%%ipytest\n",
    "\n",
    "# Create Dictionary from Pairs"
   ]
  }
 ],
 "metadata": {},
 "nbformat": 4,
 "nbformat_minor": 5
}
